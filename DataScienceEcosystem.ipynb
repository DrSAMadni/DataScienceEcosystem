{
 "cells": [
  {
   "cell_type": "markdown",
   "id": "1bbd67cd-f69e-4782-aa33-6a352be7fe43",
   "metadata": {
    "tags": []
   },
   "source": [
    "# Data Science Tools and Ecosystem"
   ]
  },
  {
   "cell_type": "markdown",
   "id": "a0a75645-12ce-448c-bd0c-8c730ea0631f",
   "metadata": {
    "tags": []
   },
   "source": [
    "In this notebook, Data Science Tools and Ecosystem are summarized."
   ]
  },
  {
   "cell_type": "markdown",
   "id": "a6c11fee-ea32-4df8-9043-1e6760ed9af0",
   "metadata": {
    "tags": []
   },
   "source": [
    "#Objectives:\n",
    "List popular languages for Data Science\n",
    "Python\n",
    "Jave\n",
    "R\n",
    "Scala\n",
    "Ruby"
   ]
  },
  {
   "cell_type": "markdown",
   "id": "416413be-db6f-47df-8d07-597b6ffb53d1",
   "metadata": {},
   "source": [
    "Some of the popular languages that Data Scientists use are:\n",
    "- Python\n",
    "- R\n",
    "- Java"
   ]
  },
  {
   "cell_type": "markdown",
   "id": "268d8ee6-2fda-4aa4-87c6-24114ca00acf",
   "metadata": {
    "tags": []
   },
   "source": [
    "Some of the commonly used libraries used by Data Scientists include:\n",
    "- Pandas\n",
    "- Numpy\n",
    "- Mayplotlib\n",
    "- Seaborn\n",
    "- ggplot\n",
    "- Caret"
   ]
  },
  {
   "cell_type": "markdown",
   "id": "7a1b811c-dc3a-43ef-a20e-48f3bf0484fe",
   "metadata": {},
   "source": [
    "Data Science Tools\n",
    "------------------\n",
    "- Jupyter Notebbok\n",
    "- R Studio\n",
    "- Spyder"
   ]
  },
  {
   "cell_type": "markdown",
   "id": "6a6d601e-1e8f-4009-9afb-1ec8916d553e",
   "metadata": {},
   "source": [
    "### Below are a few examples of evaluating arithmetic expressions in Python\n"
   ]
  },
  {
   "cell_type": "code",
   "execution_count": 4,
   "id": "091edb67-4e0f-497d-a704-f33aac979463",
   "metadata": {
    "tags": []
   },
   "outputs": [],
   "source": [
    "# This a simple arithmetic expression to mutiply then add integers"
   ]
  },
  {
   "cell_type": "code",
   "execution_count": 5,
   "id": "4d6f72d2-f0dd-4159-9d95-a51a72739cc4",
   "metadata": {
    "tags": []
   },
   "outputs": [
    {
     "data": {
      "text/plain": [
       "17"
      ]
     },
     "execution_count": 5,
     "metadata": {},
     "output_type": "execute_result"
    }
   ],
   "source": [
    "(3*4)+5"
   ]
  },
  {
   "cell_type": "code",
   "execution_count": 6,
   "id": "c75fee11-2771-4045-8770-422fda31cae2",
   "metadata": {
    "tags": []
   },
   "outputs": [],
   "source": [
    "# This will convert 200 minutes to hours by diving by 60"
   ]
  },
  {
   "cell_type": "code",
   "execution_count": 7,
   "id": "a04cbef3-005b-4372-a9f5-4225150148ba",
   "metadata": {
    "tags": []
   },
   "outputs": [
    {
     "data": {
      "text/plain": [
       "3.3333333333333335"
      ]
     },
     "execution_count": 7,
     "metadata": {},
     "output_type": "execute_result"
    }
   ],
   "source": [
    "200/60"
   ]
  },
  {
   "cell_type": "code",
   "execution_count": null,
   "id": "dd1f463a-3f12-44cc-9a70-99daa47ab14c",
   "metadata": {},
   "outputs": [],
   "source": []
  }
 ],
 "metadata": {
  "kernelspec": {
   "display_name": "Python",
   "language": "python",
   "name": "conda-env-python-py"
  },
  "language_info": {
   "codemirror_mode": {
    "name": "ipython",
    "version": 3
   },
   "file_extension": ".py",
   "mimetype": "text/x-python",
   "name": "python",
   "nbconvert_exporter": "python",
   "pygments_lexer": "ipython3",
   "version": "3.7.12"
  }
 },
 "nbformat": 4,
 "nbformat_minor": 5
}
